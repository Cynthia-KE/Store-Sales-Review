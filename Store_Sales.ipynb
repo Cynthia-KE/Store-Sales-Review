{
 "cells": [
  {
   "cell_type": "markdown",
   "id": "d14a5fda-155b-472a-a16b-80f9eb3503b9",
   "metadata": {},
   "source": [
    "# Store Sales Review\n",
    "---"
   ]
  },
  {
   "cell_type": "code",
   "execution_count": 1,
   "id": "2572c97d-b87b-4460-bf93-8f0054dd334a",
   "metadata": {
    "tags": []
   },
   "outputs": [],
   "source": [
    "products = [\"Sankofa Foods\", \"Jamestown Coffee\", \"Bioko Chocolate\",\n",
    "\"Blue Skies Ice Cream\", \"Fair Afric Chocolate\", \"Kawa Moka Coffee\",\n",
    "\"Aphro Spirit\", \"Mensado Bissap\", \"Voltic\"]\n",
    "prices = [30, 25, 40, 20, 20, 35, 45, 50, 35]\n",
    "last_week = [2, 3, 5, 8, 4, 4, 6, 2, 9]"
   ]
  },
  {
   "cell_type": "code",
   "execution_count": 89,
   "id": "3acf5e23-e3cc-4bf6-b211-12f9d78f5415",
   "metadata": {
    "tags": []
   },
   "outputs": [
    {
     "name": "stdout",
     "output_type": "stream",
     "text": [
      "Total price average for all products = GHC 33.33\n"
     ]
    }
   ],
   "source": [
    "# Total price average for all products\n",
    "    # The sum of price divided by the count of prices.\n",
    "Total_price_average = sum(prices)/len(prices)\n",
    "print(f'Total price average for all products = GHC{Total_price_average: .2f}')"
   ]
  },
  {
   "cell_type": "code",
   "execution_count": 71,
   "id": "df2d8a27-1f59-4a64-b039-bf72a27dd08b",
   "metadata": {
    "tags": []
   },
   "outputs": [
    {
     "name": "stdout",
     "output_type": "stream",
     "text": [
      "new price list = [25, 20, 35, 15, 15, 30, 40, 45, 30]\n"
     ]
    }
   ],
   "source": [
    "# Create a new price list that reduces the old prices by GHC5\n",
    "# Using the for loop\n",
    "prices = [30, 25, 40, 20, 20, 35, 45, 50, 35]\n",
    "new_prices =[]\n",
    "\n",
    "for item in prices:\n",
    "    new_prices.append(item-5)\n",
    "print(f'new price list = {new_prices}')"
   ]
  },
  {
   "cell_type": "code",
   "execution_count": 72,
   "id": "b25a3c48-a356-474d-97ea-45c91c4eb1c4",
   "metadata": {
    "tags": []
   },
   "outputs": [
    {
     "name": "stdout",
     "output_type": "stream",
     "text": [
      "Total revenue generated = GHC 1400\n"
     ]
    }
   ],
   "source": [
    "# Calculate the total revenue generated from the products\n",
    "# We import numpy to make this possible\n",
    "import numpy as np\n",
    "\n",
    "# Multiplying the prices and last week list to find the revenue for each product\n",
    "revenue_product = np.multiply(prices,last_week)\n",
    "\n",
    "# Adding the revenue of each product to find the total revenue\n",
    "total_revenue = sum(revenue_product)\n",
    "\n",
    "print('Total revenue generated = GHC',total_revenue)\n"
   ]
  },
  {
   "cell_type": "code",
   "execution_count": 76,
   "id": "c22f8215-037a-4817-a770-e895e3981e4b",
   "metadata": {
    "tags": []
   },
   "outputs": [
    {
     "name": "stdout",
     "output_type": "stream",
     "text": [
      "Average daily revenue = GHC 32.56\n"
     ]
    }
   ],
   "source": [
    "# Calculate the average daily revenue generated from the products\n",
    "# Average daily revenue = adr\n",
    "average_daily_revenue = total_revenue / sum(last_week)\n",
    "\n",
    "print(f'Average daily revenue = GHC{average_daily_revenue: .2F}')"
   ]
  },
  {
   "cell_type": "code",
   "execution_count": 88,
   "id": "565ab0b9-3ed6-4a98-b073-2ea22b2ce2da",
   "metadata": {
    "tags": []
   },
   "outputs": [
    {
     "name": "stdout",
     "output_type": "stream",
     "text": [
      "Products priced less than GHC30: ['Sankofa Foods', 'Jamestown Coffee', 'Blue Skies Ice Cream', 'Fair Afric Chocolate']\n"
     ]
    }
   ],
   "source": [
    "# Based on the new prices, which products are less than GHC30\n",
    "products = ['Sankofa Foods', 'Jamestown Coffee', 'Bioko Chocolate', 'Blue Skies Ice Cream', 'Fair Afric Chocolate', 'Kawa Moka Coffee', 'Aphro Spirit', 'Mensado Bissap', 'Voltic']\n",
    "new_prices = [25, 20, 35, 15, 15, 30, 40, 45, 30]\n",
    " \n",
    "less_than_30 = []\n",
    "for i in range(len(products)):            # Changing the products into the range of their indexes\n",
    "    if new_prices[i] < 30:                # Finding the products using the indexes of the prices lesser than 30\n",
    "        less_than_30.append(products[i])\n",
    " \n",
    "print(\"Products priced less than GHC30:\", less_than_30)"
   ]
  },
  {
   "cell_type": "code",
   "execution_count": null,
   "id": "44fb437a-22db-4549-bf34-ae0d49471edb",
   "metadata": {},
   "outputs": [],
   "source": []
  }
 ],
 "metadata": {
  "kernelspec": {
   "display_name": "Python 3 (ipykernel)",
   "language": "python",
   "name": "python3"
  },
  "language_info": {
   "codemirror_mode": {
    "name": "ipython",
    "version": 3
   },
   "file_extension": ".py",
   "mimetype": "text/x-python",
   "name": "python",
   "nbconvert_exporter": "python",
   "pygments_lexer": "ipython3",
   "version": "3.11.5"
  }
 },
 "nbformat": 4,
 "nbformat_minor": 5
}
